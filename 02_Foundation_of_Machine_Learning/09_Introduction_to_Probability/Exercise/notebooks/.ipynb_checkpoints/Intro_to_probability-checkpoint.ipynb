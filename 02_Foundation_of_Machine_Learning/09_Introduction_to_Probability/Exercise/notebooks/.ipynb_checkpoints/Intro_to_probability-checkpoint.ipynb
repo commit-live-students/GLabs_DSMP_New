{
 "cells": [
  {
   "cell_type": "markdown",
   "metadata": {},
   "source": [
    "### <h1 align=\"center\">Introduction to Probability</h1>\n",
    "<br/>"
   ]
  },
  {
   "cell_type": "markdown",
   "metadata": {},
   "source": [
    "## Explainer Video"
   ]
  },
  {
   "cell_type": "code",
   "execution_count": 2,
   "metadata": {},
   "outputs": [
    {
     "name": "stderr",
     "output_type": "stream",
     "text": [
      "C:\\Users\\makra\\Anaconda3\\lib\\site-packages\\IPython\\core\\display.py:689: UserWarning: Consider using IPython.display.IFrame instead\n",
      "  warnings.warn(\"Consider using IPython.display.IFrame instead\")\n"
     ]
    },
    {
     "data": {
      "text/html": [
       "<iframe src=\"https://player.vimeo.com/video/281561632\" width=\"800\" height=\"600\" frameborder=\"0\" allow=\"autoplay; fullscreen\" allowfullscreen></iframe>"
      ],
      "text/plain": [
       "<IPython.core.display.HTML object>"
      ]
     },
     "execution_count": 2,
     "metadata": {},
     "output_type": "execute_result"
    }
   ],
   "source": [
    "from IPython.display import HTML\n",
    "HTML('<iframe src=\"https://player.vimeo.com/video/281561632\" width=\"800\" height=\"600\" frameborder=\"0\" allow=\"autoplay; fullscreen\" allowfullscreen></iframe>')"
   ]
  },
  {
   "cell_type": "markdown",
   "metadata": {},
   "source": [
    "## Practice problem based on Bayes Teorem"
   ]
  },
  {
   "cell_type": "markdown",
   "metadata": {},
   "source": [
    "Q1. Box P has 3 red balls and 2 blue balls and box Q has 4 red balls and 2 blue ball. A ball is selected as follows:\n",
    "\n",
    "```python\n",
    "(i)  Select a box\n",
    "(ii) Choose a ball from the selected box such that each ball in\n",
    "     the box is equally likely to be chosen. The probabilities of\n",
    "     selecting boxes P and Q are (1/3) and (2/3), respectively.\n",
    "```\n",
    "Given that a ball selected in the above process is a red ball, the probability that it came from the box P \n",
    "is i.e we need to calculate P(P|R)?\n",
    "\n",
    "$P(P|R) = \\frac{P(R|P)P(P)}{P(R)}$\n",
    "\n",
    "```python\n",
    "(A) 9/29 or 0.31\n",
    "(B) 5/19 or 0.26\n",
    "(C) 4/9 or 0.44\n",
    "(D) 29/45 or 0.64\n",
    "```"
   ]
  },
  {
   "cell_type": "code",
   "execution_count": null,
   "metadata": {},
   "outputs": [],
   "source": [
    "# Your Solution goes here\n"
   ]
  },
  {
   "cell_type": "markdown",
   "metadata": {},
   "source": [
    "Q2. In a class of 300 seniors, 106 study Spanish, 100 study Chemistry, 178 study Mathematics, 6 study Spanish and Chemistry, 46 study Chemistry and Math, 6 study Math and Spanish and 16 study all three subjects. Make a Venn diagram to illustrate the data and then find the probability that a student selected at random studies:\n",
    "```python\n",
    "1. Who study just Spanish\n",
    "2. Who study Math and Chemistry but not Spanish\n",
    "3. Who study none of the these subjects\n",
    "\n",
    "```\n",
    "![](../images/venn.png)"
   ]
  },
  {
   "cell_type": "code",
   "execution_count": 1,
   "metadata": {},
   "outputs": [],
   "source": [
    "# Your Solution goes here\n"
   ]
  },
  {
   "cell_type": "markdown",
   "metadata": {},
   "source": [
    "## Quiz\n",
    "\n",
    "Q1. Which of these numbers cannot be a probability? \n",
    "```python\n",
    "a) -0.00001 \n",
    "b) 0.5 \n",
    "c) 1.001 \n",
    "d) 0 \n",
    "e) 1 \n",
    "f) 20% \n",
    "\n",
    "```\n",
    "\n",
    "Q2. When an event A independent of itself?\n",
    "\n",
    "```python\n",
    "A) Always\n",
    "B) If and only if P(A)=0\n",
    "C) If and only if P(A)=1\n",
    "D) If and only if P(A)=0 or 1\n",
    "\n",
    "```\n",
    "\n",
    "Q3. Which of the following events is most likely? \n",
    "\n",
    "```python\n",
    "A) At least one 6, when 6 dice are rolled\n",
    "B) At least 2 sixes when 12 dice are rolled\n",
    "C) At least 3 sixes when 18 dice are rolled\n",
    "D) All the above have same probability\n",
    "\n",
    "```\n",
    "\n",
    "Q4. There are a total of 8 bows of 2 each of green, yellow, orange & red. In how many ways can you select 1 bow? \n",
    "\n",
    "![](../images/bow.jpg)\n",
    "\n",
    "```python\n",
    "A) 1\n",
    "B) 2\n",
    "C) 4\n",
    "D) 8\n",
    "\n",
    "```\n",
    "\n",
    "Q5. A fly has a life between 4-6 days. What is the probability that the fly will die at exactly 5 days?\n",
    "\n",
    "```python\n",
    "A) 1/2\n",
    "B) 1/4\n",
    "C) 1/3\n",
    "D) 0\n",
    "\n",
    "```\n",
    "\n",
    "\n"
   ]
  },
  {
   "cell_type": "markdown",
   "metadata": {
    "slideshow": {
     "slide_type": "slide"
    }
   },
   "source": [
    "# Thank You\n",
    "***\n",
    "### Next Session: Exploratory Data Analysis\n",
    "For more queries - Reach out to academics@greyatom.com "
   ]
  }
 ],
 "metadata": {
  "anaconda-cloud": {},
  "celltoolbar": "Slideshow",
  "kernelspec": {
   "display_name": "Python 3",
   "language": "python",
   "name": "python3"
  },
  "language_info": {
   "codemirror_mode": {
    "name": "ipython",
    "version": 3
   },
   "file_extension": ".py",
   "mimetype": "text/x-python",
   "name": "python",
   "nbconvert_exporter": "python",
   "pygments_lexer": "ipython3",
   "version": "3.7.0"
  },
  "widgets": {
   "state": {},
   "version": "1.1.2"
  }
 },
 "nbformat": 4,
 "nbformat_minor": 2
}
