{
 "cells": [
  {
   "cell_type": "markdown",
   "metadata": {
    "slideshow": {
     "slide_type": "slide"
    }
   },
   "source": [
    " # Handling Program Flow in Python"
   ]
  },
  {
   "cell_type": "markdown",
   "metadata": {
    "slideshow": {
     "slide_type": "subslide"
    }
   },
   "source": [
    "<img src=\"../images/icon/Technical-Stuff.png\" alt=\"Concept-Alert\" style=\"width: 100px;float:left; margin-right:15px\"/>\n",
    "<br /> \n",
    "# Python Programming Constructs\n",
    "***\n",
    "We'll be talking about\n",
    "- Conditional Statements\n",
    "- Looping\n",
    "- Comprehensions"
   ]
  },
  {
   "cell_type": "markdown",
   "metadata": {},
   "source": [
    "# If,elif,else Statements\n",
    "\n",
    "if Statements in Python allows us to tell the computer to perform alternative actions based on a certain set of results.\n",
    "\n",
    "Verbally, we can imagine we are telling the computer:\n",
    "\n",
    "\"Hey if this case happens, perform some action\"\n",
    "\n",
    "We can then expand the idea further with elif and else statements, which allow us to tell the computer:\n",
    "\n",
    "\"Hey if this case happens, perform some action. Else if another case happens, perform some other action. Else-- none of the above cases happened, perform this action\"\n",
    "\n",
    "Let's go ahead and look at the syntax format for if statements to get a better idea of this:\n",
    "\n",
    "    if case1:\n",
    "        perform action1\n",
    "    elif case2:\n",
    "        perform action2\n",
    "    else: \n",
    "        perform action 3"
   ]
  },
  {
   "cell_type": "markdown",
   "metadata": {},
   "source": [
    "### Instructions\n",
    "Is the number positive or negative?\n",
    "\n",
    "In this task you are going to make use of the if-elif-else statement to find out if a number is positive, negative or zero.\n",
    "\n",
    "* A variable `num = -5` is given along with another variable `condition=None` (captures the state of num)\n",
    "\n",
    "* Put the conditions for checking whether the number is positive (+) , negative (-) or zero (0) using if-elif-else construct.\n",
    "\n",
    "* If `num` is greater than 0 set `condition='positive'`. Print out the variable condition.\n",
    "\n",
    "* Else `num` is less than 0, set `condition='negative'`. Print out the variable condition.\n",
    "\n",
    "* Else num is equal to 0 set `condition='zero'`. Print out the variable condition."
   ]
  },
  {
   "cell_type": "code",
   "execution_count": 3,
   "metadata": {
    "ExecuteTime": {
     "end_time": "2017-09-25T05:49:17.584649Z",
     "start_time": "2017-09-25T05:49:17.562599Z"
    },
    "slideshow": {
     "slide_type": "fragment"
    }
   },
   "outputs": [
    {
     "name": "stdout",
     "output_type": "stream",
     "text": [
      "negative\n"
     ]
    }
   ],
   "source": [
    "# initialize variable\n",
    "num = -5\n",
    "condition = None\n",
    "\n",
    "# Code starts here\n",
    "\n",
    "# check for conditions\n",
    "if(num > 0):\n",
    "    condition='positive'\n",
    "    print(condition)\n",
    "elif(num < 0):\n",
    "    condition='negative'\n",
    "    print(condition)\n",
    "else :\n",
    "    condition=0\n",
    "    print(condition)"
   ]
  },
  {
   "cell_type": "markdown",
   "metadata": {},
   "source": [
    "<img src=\"../images/icon/Warning.png\" alt=\"Warning\" style=\"width: 100px;float:left; margin-right:15px\"/>\n",
    "<br />\n",
    "### Indentation\n",
    "***\n",
    "It is important to keep a good understanding of how indentation works in Python to maintain the structure and order of your code. We will touch on this topic again when we start building out functions!"
   ]
  },
  {
   "cell_type": "markdown",
   "metadata": {},
   "source": [
    "<img src=\"../images/icon/Technical-Stuff.png\" alt=\"Technical-Stuff\" style=\"width: 100px;float:left; margin-right:15px\"/>\n",
    "<br />\n",
    "# For Loops\n",
    "***\n",
    "A **for** loop acts as an iterator in Python, it goes through items that are in a *sequence* or any other iterable item. Objects that we've learned about that we can iterate over include strings,lists,tuples, and even built in iterables for dictionaries, such as the keys or values.\n",
    "\n",
    "We've already seen the **for** statement a little bit in past lectures but now lets formalize our understanding.\n",
    "\n",
    "Here's the general format for a **for** loop in Python:\n",
    "\n",
    "    for item in object:\n",
    "        statements to do stuff\n",
    "\n",
    "The variable name used for the item is completely up to the coder, so use your best judgment for choosing a name that makes sense and you will be able to understand when revisiting your code. This item name can then be referenced inside you loop, for example if you wanted to use if statements to perform checks.\n",
    "\n",
    "Let's go ahead and work through several example of **for** loops using a variety of data object types. we'll start simple and build more complexity later on.\n"
   ]
  },
  {
   "cell_type": "markdown",
   "metadata": {},
   "source": [
    "### Instructions\n",
    "\n",
    "Find numbers divisible by 2 or 4\n",
    "\n",
    "In this task you will learn how to use a for loop and conditionals by making a list of natural numbers less than or equal to 60 which are divisible by 2 or 4.\n",
    "\n",
    "* Iterate over a range using the `range()` function from `1` to `61` using the for loop\n",
    "\n",
    "* Initialize an empty list named `divisible` to store your results\n",
    "\n",
    "* Use the if statement to check if the iterable is divisible by `2` or `4`, and if yes, then append it to the list created in the above step\n",
    "\n",
    "* Print `divisible`"
   ]
  },
  {
   "cell_type": "code",
   "execution_count": 4,
   "metadata": {},
   "outputs": [
    {
     "name": "stdout",
     "output_type": "stream",
     "text": [
      "[2, 4, 6, 8, 10, 12, 14, 16, 18, 20, 22, 24, 26, 28, 30, 32, 34, 36, 38, 40, 42, 44, 46, 48, 50, 52, 54, 56, 58, 60]\n"
     ]
    }
   ],
   "source": [
    "# initialize empty list\n",
    "divisible =[]\n",
    "\n",
    "# for loop to store elements \n",
    "for i in range(1,61):\n",
    "    if i%2 == 0 or i%4 == 0:\n",
    "        divisible.append(i)\n",
    "\n",
    "\n",
    "\n",
    "# display list\n",
    "print(divisible)"
   ]
  },
  {
   "cell_type": "markdown",
   "metadata": {},
   "source": [
    "### Instructions\n",
    "\n",
    "* Now its time for you to code again can you create a list of 10 numbers iterate through the list and print the square of each number."
   ]
  },
  {
   "cell_type": "code",
   "execution_count": 5,
   "metadata": {},
   "outputs": [
    {
     "name": "stdout",
     "output_type": "stream",
     "text": [
      "0\n",
      "1\n",
      "4\n",
      "9\n",
      "16\n",
      "25\n",
      "36\n",
      "49\n",
      "64\n",
      "81\n"
     ]
    }
   ],
   "source": [
    "lst = list(range(10))\n",
    "\n",
    "for i in lst:\n",
    "    print(i**2)"
   ]
  },
  {
   "cell_type": "markdown",
   "metadata": {},
   "source": [
    "<img src=\"../images/icon/Technical-Stuff.png\" alt=\"Technical-Stuff\" style=\"width: 100px;float:left; margin-right:15px\"/>\n",
    "<br />\n",
    "# While loops\n",
    "***\n",
    "The **while** statement in Python is one of most general ways to perform iteration. A **while** statement will repeatedly execute a single statement or group of statements as long as the condition is true. The reason it is called a 'loop' is because the code statements are looped through over and over again until the condition is no longer met.\n",
    "\n",
    "The general format of a while loop is:\n",
    "\n",
    "    while test:\n",
    "        code statement\n",
    "    else:\n",
    "        final code statements\n",
    "\n",
    "Let’s look at a few simple while loops in action. \n"
   ]
  },
  {
   "cell_type": "markdown",
   "metadata": {},
   "source": [
    "### Instructions\n",
    "Find multiples of 20\n",
    "In this task you will be using a while loop to iterate over natural numbers from 1 to 100 and store only the multiples of 10 in a list and print that list\n",
    "\n",
    "* Initialize an empty list `factors` and a variable `num` equal to `1`\n",
    "\n",
    "* Set the condtion in the `while` loop until the variable `num` is equal to or less than `200`\n",
    "\n",
    "* Check using an if statement whether the variable is divisible by 10 and if it is, append that number to `factors`\n",
    "\n",
    "* Increment the variable `num` by `1` post checking the above condition. (note that this increment will be outside the if statement, take care of the indentation in order to avoid a scenario of infinite loop)\n",
    "\n",
    "* Print out the `factors` list"
   ]
  },
  {
   "cell_type": "code",
   "execution_count": 7,
   "metadata": {},
   "outputs": [
    {
     "name": "stdout",
     "output_type": "stream",
     "text": [
      "[20, 40, 60, 80, 100, 120, 140, 160, 180, 200]\n"
     ]
    }
   ],
   "source": [
    "# initialize\n",
    "factors = []\n",
    "num =1\n",
    "\n",
    "# while loop\n",
    "while num <= 200:\n",
    "    if num % 20 == 0:\n",
    "        factors.append(num)\n",
    "    num = num+1 \n",
    "\n",
    "\n",
    "# display answer\n",
    "print(factors)"
   ]
  },
  {
   "cell_type": "markdown",
   "metadata": {
    "slideshow": {
     "slide_type": "subslide"
    }
   },
   "source": [
    "<img src=\"../images/icon/Technical-Stuff.png\" alt=\"Technical-Stuff\" style=\"width: 100px;float:left; margin-right:15px\"/>\n",
    "<br />\n",
    "# Functions\n",
    "## Comprehensions\n",
    "***\n",
    "- Python provides syntactic sugar to write small loops to generate lists/sets/tuples/dicts in one line\n",
    "- These are called comprehensions, and can greatly increase development speed and readability\n",
    "\n",
    "Syntax:\n",
    "```\n",
    "    sequence = [expression(element) for element in iterable if condition]\n",
    "```\n",
    "\n",
    "The brackets used for creating the comprehension define what type of object is created.\n",
    "\n",
    "Use **[ ]** for lists, **()** for _generators_, **{}** for sets and dicts"
   ]
  },
  {
   "cell_type": "markdown",
   "metadata": {
    "collapsed": true,
    "slideshow": {
     "slide_type": "subslide"
    }
   },
   "source": [
    "### `list` Comprehension"
   ]
  },
  {
   "cell_type": "markdown",
   "metadata": {},
   "source": [
    "### Instructions\n",
    "* Assign a list of names as `[\"Ravi\", \"Pooja\", \"Vijay\", \"Kiran\"]` to the variable `names`\n",
    "* Make a list `hello` using list comprehension in that add `\"Hello \"` +  which would contain elements which are in `names` "
   ]
  },
  {
   "cell_type": "code",
   "execution_count": 8,
   "metadata": {
    "ExecuteTime": {
     "end_time": "2017-09-25T05:49:22.607807Z",
     "start_time": "2017-09-25T05:49:22.597985Z"
    },
    "slideshow": {
     "slide_type": "fragment"
    }
   },
   "outputs": [
    {
     "name": "stdout",
     "output_type": "stream",
     "text": [
      "['Hello Ravi', 'Hello Pooja', 'Hello Vijay', 'Hello Kiran']\n"
     ]
    }
   ],
   "source": [
    "names = [\"Ravi\", \"Pooja\", \"Vijay\", \"Kiran\"]\n",
    "hello = [\"Hello \" + name for name in names]\n",
    "print(hello)"
   ]
  },
  {
   "cell_type": "markdown",
   "metadata": {},
   "source": [
    "### Instructions\n",
    "Present in one but absent in another\n",
    "\n",
    "In this task you will make a list comprehension to return a list of numbers which are not present in another list of numbers.\n",
    "\n",
    "* Define a list of numbers `alist` from `1` to `50` using a list comprehension.\n",
    "\n",
    "* Define another list `blist` and store its values as [1,3,5,10,14,13,17,19,23,29,31,38,41,45,47].\n",
    "\n",
    "* Make a list `final` using list comprehension which would contain elemnts which are in alist but not in blist.\n",
    "\n",
    "* Print `final`"
   ]
  },
  {
   "cell_type": "code",
   "execution_count": 10,
   "metadata": {},
   "outputs": [
    {
     "name": "stdout",
     "output_type": "stream",
     "text": [
      "[1, 2, 3, 4, 5, 6, 7, 8, 9, 10, 11, 12, 13, 14, 15, 16, 17, 18, 19, 20, 21, 22, 23, 24, 25, 26, 27, 28, 29, 30, 31, 32, 33, 34, 35, 36, 37, 38, 39, 40, 41, 42, 43, 44, 45, 46, 47, 48, 49, 50]\n",
      "[2, 4, 6, 7, 8, 9, 11, 12, 15, 16, 18, 20, 21, 22, 24, 25, 26, 27, 28, 30, 32, 33, 34, 35, 36, 37, 39, 40, 42, 43, 44, 46, 48, 49, 50]\n"
     ]
    }
   ],
   "source": [
    "# initialize both lists\n",
    "alist = [i for i in range(1,51)]\n",
    "print(alist)\n",
    "blist =  [1,3,5,10,14,13,17,19,23,29,31,38,41,45,47]\n",
    "# final list\n",
    "final = [i for i in alist if i not in  blist]\n",
    "# display final list\n",
    "print(final)"
   ]
  },
  {
   "cell_type": "markdown",
   "metadata": {
    "slideshow": {
     "slide_type": "subslide"
    }
   },
   "source": [
    "<img src=\"../images/icon/Technical-Stuff.png\" alt=\"Technical-Stuff\" style=\"width: 100px;float:left; margin-right:15px\"/>\n",
    "<br />\n",
    "## Exception Handling\n",
    "***\n",
    "#### try and except\n",
    "\n",
    "The basic terminology and syntax used to handle errors in Python is the **try** and **except** statements. The code which can cause an exception to occue is put in the *try* block and the handling of the exception is the implemented in the *except* block of code. The syntax form is:\n",
    "\n",
    "    try:\n",
    "       You do your operations here...\n",
    "       ...\n",
    "    except ExceptionI:\n",
    "       If there is ExceptionI, then execute this block.\n",
    "    except ExceptionII:\n",
    "       If there is ExceptionII, then execute this block.\n",
    "       ...\n",
    "    else:\n",
    "       If there is no exception then execute this block. \n",
    "\n",
    "We can also just check for any exception with just using except: To get a better understanding of all this lets check out an example: We will look at some code that opens and writes a file:"
   ]
  },
  {
   "cell_type": "code",
   "execution_count": 11,
   "metadata": {
    "ExecuteTime": {
     "end_time": "2017-09-25T05:49:25.844203Z",
     "start_time": "2017-09-25T05:49:25.831637Z"
    },
    "slideshow": {
     "slide_type": "fragment"
    }
   },
   "outputs": [
    {
     "name": "stdout",
     "output_type": "stream",
     "text": [
      "divided by zero\n",
      "executed when exception occurs\n",
      "finally block, always executed\n"
     ]
    }
   ],
   "source": [
    "try:\n",
    "    x = 1 / 0\n",
    "except ZeroDivisionError:\n",
    "    print('divided by zero')\n",
    "    print('executed when exception occurs')\n",
    "else:\n",
    "    print('executed only when exception does not occur')\n",
    "finally:\n",
    "    print('finally block, always executed')"
   ]
  },
  {
   "cell_type": "markdown",
   "metadata": {},
   "source": [
    "### Instructions\n",
    "\n",
    "Divide two numbers avoiding zero in the denominator\n",
    "\n",
    "In this task you will practice using exceptions to deal with a situation which involves raising exceptions for division of two numbers.\n",
    "\n",
    "* Two variables `num1` and `num2` are given and your mission is to avoid `ZeroDivisionError`\n",
    "\n",
    "* Inside the `try` block execute the division statement of dividing the first number by the second number, store the message as a variable `message = \"Quotient is\" + ' ' + str(quotient)` where `quotient=num1/num2`. Print out `message`\n",
    "\n",
    "* Raise exceptions for `ZeroDivisionError` with `message = \"Cannot divide by zero\"`. Print out `message`\n"
   ]
  },
  {
   "cell_type": "code",
   "execution_count": 12,
   "metadata": {},
   "outputs": [
    {
     "name": "stdout",
     "output_type": "stream",
     "text": [
      "Cannot divide by zero\n"
     ]
    }
   ],
   "source": [
    "# take input\n",
    "num1, num2 = 10, 0\n",
    "\n",
    "# Code starts here\n",
    "try:\n",
    "    quotient = (num1/num2)\n",
    "    message = \"Quotient is\" + ' ' + str(quotient)\n",
    "    print(message)\n",
    "except ZeroDivisionError:\n",
    "    message = \"Cannot divide by zero\"\n",
    "    print(message)\n",
    "else:\n",
    "    print(\"No exceptions\")"
   ]
  },
  {
   "cell_type": "markdown",
   "metadata": {
    "ExecuteTime": {
     "end_time": "2017-09-19T10:03:27.500870Z",
     "start_time": "2017-09-19T10:03:27.495827Z"
    },
    "slideshow": {
     "slide_type": "subslide"
    }
   },
   "source": [
    "<img src=\"../images/icon/Technical-Stuff.png\" alt=\"Concept-Alert\" style=\"width: 100px;float:left; margin-right:15px\"/>\n",
    "<br /> \n",
    "## File I/O : Helps you read your files\n",
    "***\n",
    "- Python provides a `file` object to read text/binary files.\n",
    "- This is similar to the `FileStream` object in other languages.\n",
    "- Since a `file` is a resource, it must be closed after use. This can be done manually, or using a context manager (**`with`** statement)"
   ]
  },
  {
   "cell_type": "markdown",
   "metadata": {
    "slideshow": {
     "slide_type": "subslide"
    }
   },
   "source": [
    "<div class=\"alert alert-block alert-info\">Create a file in the current directory</div>"
   ]
  },
  {
   "cell_type": "markdown",
   "metadata": {},
   "source": [
    "### Instructions\n",
    "* The file `myfile.txt` is already created for you. Open it in `write` mode with `with open('myfile.txt', 'w') as f:`\n",
    "\n",
    "* Write `\"This is my first line!\\n\"` into the file using `'f.write()'` \n",
    "\n",
    "* Write `\"Second line!\\n\"` into the file using `'f.write()'` \n",
    "\n",
    "* Write `\"Last line!\\n\"` into the file using `'f.write()'`\n",
    "\n"
   ]
  },
  {
   "cell_type": "code",
   "execution_count": 14,
   "metadata": {
    "ExecuteTime": {
     "end_time": "2017-09-25T05:46:48.444281Z",
     "start_time": "2017-09-25T05:46:48.404481Z"
    },
    "slideshow": {
     "slide_type": "fragment"
    }
   },
   "outputs": [
    {
     "name": "stdout",
     "output_type": "stream",
     "text": [
      "/home/makrand/Day1/python_getting_started_open_content/notebooks\n"
     ]
    }
   ],
   "source": [
    "with open('myfile.txt', 'w') as f:\n",
    "    f.write(\"This is my first file!\\n\")\n",
    "    f.write(\"Second line!\\n\")\n",
    "    f.write(\"Last line!\\n\")\n",
    "\n",
    "\n",
    "# let's verify if it was really created.\n",
    "# For that, let's find out which directory we're working from\n",
    "import os\n",
    "print(os.path.abspath(os.curdir))"
   ]
  },
  {
   "cell_type": "markdown",
   "metadata": {
    "slideshow": {
     "slide_type": "subslide"
    }
   },
   "source": [
    "<div class=\"alert alert-block alert-info\">Read the newly created file</div>"
   ]
  },
  {
   "cell_type": "markdown",
   "metadata": {},
   "source": [
    "* Open `myfile.txt`"
   ]
  },
  {
   "cell_type": "code",
   "execution_count": 15,
   "metadata": {
    "ExecuteTime": {
     "end_time": "2017-09-21T07:13:26.917607Z",
     "start_time": "2017-09-21T07:13:26.909666Z"
    },
    "slideshow": {
     "slide_type": "fragment"
    }
   },
   "outputs": [
    {
     "name": "stdout",
     "output_type": "stream",
     "text": [
      "This is my first file!\n",
      "\n",
      "Second line!\n",
      "\n",
      "Last line!\n",
      "\n"
     ]
    }
   ],
   "source": [
    "# read the file we just created\n",
    "with open('myfile.txt', 'r') as f:\n",
    "    for line in f:\n",
    "        print(line)\n"
   ]
  },
  {
   "cell_type": "markdown",
   "metadata": {
    "slideshow": {
     "slide_type": "slide"
    }
   },
   "source": [
    "# Further Reading\n",
    "\n",
    "- Official Python Documentation: https://docs.python.org/"
   ]
  },
  {
   "cell_type": "markdown",
   "metadata": {
    "slideshow": {
     "slide_type": "slide"
    }
   },
   "source": [
    "<img src=\"../images/icon/Recap.png\" alt=\"Recap\" style=\"width: 100px;float:left; margin-right:15px\"/>\n",
    "<br />\n",
    "# In-session Recap Time\n",
    "***\n",
    "* Python Basics\n",
    "    * Variables and Scoping\n",
    "    * Modules, Packages and Imports\n",
    "    * Data Types & Data Structures\n",
    "    * Python Programming Constructs"
   ]
  },
  {
   "cell_type": "markdown",
   "metadata": {
    "collapsed": true,
    "slideshow": {
     "slide_type": "slide"
    }
   },
   "source": [
    "# Thank You\n",
    "***\n",
    "### Coming up next...\n",
    "\n",
    "- **Python Functions**: How to write modular functions to enable code reuse\n",
    "- **NumPy**: Learn the basis of most numeric computation in Python\n",
    "\n",
    "For more queries - Reach out to academics@greyatom.com "
   ]
  }
 ],
 "metadata": {
  "celltoolbar": "Slideshow",
  "kernelspec": {
   "display_name": "Python 3",
   "language": "python",
   "name": "python3"
  },
  "language_info": {
   "codemirror_mode": {
    "name": "ipython",
    "version": 3
   },
   "file_extension": ".py",
   "mimetype": "text/x-python",
   "name": "python",
   "nbconvert_exporter": "python",
   "pygments_lexer": "ipython3",
   "version": "3.6.5"
  },
  "toc": {
   "colors": {
    "hover_highlight": "#DAA520",
    "running_highlight": "#FF0000",
    "selected_highlight": "#FFD700"
   },
   "moveMenuLeft": true,
   "nav_menu": {
    "height": "386px",
    "width": "268px"
   },
   "navigate_menu": true,
   "number_sections": true,
   "sideBar": true,
   "threshold": 4,
   "toc_cell": false,
   "toc_position": {
    "height": "664px",
    "left": "0px",
    "right": "1388px",
    "top": "107px",
    "width": "233px"
   },
   "toc_section_display": "block",
   "toc_window_display": true
  }
 },
 "nbformat": 4,
 "nbformat_minor": 2
}
