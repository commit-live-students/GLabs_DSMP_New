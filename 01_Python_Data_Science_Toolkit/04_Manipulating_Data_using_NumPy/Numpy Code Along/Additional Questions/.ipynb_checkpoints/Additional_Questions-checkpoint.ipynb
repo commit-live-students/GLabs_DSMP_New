{
 "cells": [
  {
   "cell_type": "markdown",
   "metadata": {},
   "source": [
    "# Example 1: Throwing a Ball"
   ]
  },
  {
   "cell_type": "markdown",
   "metadata": {},
   "source": [
    "### Q:- A ball is thrown straight up, from 3 m above the ground, with a velocity of 14 m/s. When does it hit the ground?\n"
   ]
  },
  {
   "cell_type": "markdown",
   "metadata": {},
   "source": [
    "Ignoring air resistance, we can work out its height by adding up these three things:\n",
    "(Note: t is time in seconds)\n",
    "\n",
    "```python\n",
    "The height starts at 3 m:\t \t                                                      3\n",
    "It travels upwards at 14 meters per second (14 m/s):\t \t                          14t\n",
    "Gravity pulls it down, changing its position by about 5 m per second squared:\t \t−5t2\n",
    "```\n",
    "**Note for the enthusiastic: the -5t2 is simplified from -(½)at2 with a=9.8 m/s2)**\t\n",
    "\n",
    "### Instructions\n",
    "* Add them up and save it as height `h`\n",
    "* Write the quadratic equation in standard form when the ball hits the ground when the height is `0`\n",
    "* The quadratic equation that you will be solving is `5t^2 -14t - 3 = 0`\n",
    "* Make an array `coeff` to store the coefficients `(5,-14, -3)` of the quadratic equation\n",
    "* Pass this array `coeff` as argument to `np.roots()` method which will return the roots for the quadratic equation   5t^2 -14t - 3 = 0. Save it as roots\n",
    "* Print out `roots` to see your result"
   ]
  },
  {
   "cell_type": "code",
   "execution_count": 1,
   "metadata": {},
   "outputs": [],
   "source": [
    "# import packages\n",
    "import numpy as np\n",
    "\n",
    "# Code starts here\n",
    "\n",
    "# co-efficients of x\n",
    "\n",
    "\n",
    "# roots of equation\n",
    "\n",
    "\n",
    "# display roots\n",
    "\n",
    "# Code ends here"
   ]
  },
  {
   "cell_type": "markdown",
   "metadata": {},
   "source": [
    "The \"t = −0.2\" is a negative time, impossible in our case.\n",
    "\n",
    "The \"t = 3\" is the answer we want:The ball hits the ground after 3 seconds!\n",
    "\n",
    "Here is the graph of the Parabola h = −5t2 + 14t + 3\n",
    "![](quadratic-1a.gif)\n",
    "\n",
    "It shows you the height of the ball vs time\n",
    "\n",
    "Some interesting points:\n",
    "\n",
    "(0,3) When t=0 (at the start) the ball is at 3 m\n",
    "\n",
    "(−0.2,0) says that −0.2 seconds BEFORE we threw the ball it was at ground level. This never happened! So our common sense says to ignore it.\n",
    "\n",
    "(3,0) says that at 3 seconds the ball is at ground level.\n",
    "\n",
    "Also notice that the ball goes nearly 13 meters high."
   ]
  },
  {
   "cell_type": "markdown",
   "metadata": {},
   "source": [
    "## Example 2: Statistics on Volleyball "
   ]
  },
  {
   "cell_type": "markdown",
   "metadata": {},
   "source": [
    "## 1. Calculate VolleyBall Players height?\n",
    "The height is expressed in inches. Can you make a numpy array out of it and convert the units to meters?\n",
    "### Instructions\n",
    "\n",
    "* Create a numpy array from `height_inches`. Name this new array `np_height_inches`.\n",
    "* Print `np_height_inches`.\n",
    "* Multiply `np_height_inches` with `0.0254` to convert all height measurements from inches to meters. Store the new   values in a new array, `np_height_metres`.\n",
    "* Print out `np_height_metres` and check if the output makes sense."
   ]
  },
  {
   "cell_type": "code",
   "execution_count": 2,
   "metadata": {},
   "outputs": [],
   "source": [
    "# height is available as a regular list\n",
    "height_inches = [74, 74, 72, 72, 73, 69, 69, 71, 76, 71, 73, 73, 74, 74, 69,70, 73,75, 78, 79, 76, 74, \n",
    "          76, 72, 71, 75, 77, 74, 73, 74, 78, 73, 75, 73, 75, 75, 74,69, 71, 74, 73, 73, 76, 74, \n",
    "          74, 70, 72, 77, 74, 70, 73, 75, 76, 76,78, 74, 74, 76, 77, 81, 78, 75, 77, 75, 76, 74, \n",
    "          72, 72, 75, 73, 73, 73, 70, 70, 70,76, 68, 71, 72, 75, 75, 75, 75, 68, 74, 78, 71, 73, \n",
    "          76, 74, 74, 79, 75, 73, 76, 74, 74, 73, 72, 74, 73, 74, 72, 73, 69, 72, 73, 75, 75, 73, \n",
    "          72, 72, 76, 74, 72, 77,74, 77, 75, 76, 80, 74, 74, 75, 78, 73, 73, 74, 75, 76, 71, 73]\n",
    "\n",
    "\n",
    "# Import numpy\n",
    "\n",
    "# Create a numpy array from height: np_height\n",
    "\n",
    "\n",
    "# Print out np_height\n",
    "\n",
    "\n",
    "# Convert np_height to m: np_height_m\n",
    "\n",
    "\n",
    "# Print np_height_m\n"
   ]
  },
  {
   "cell_type": "markdown",
   "metadata": {},
   "source": [
    "## 2. Calculate Volleyball player's weight and find out the BMI?\n",
    "\n",
    "height_inches is in inches and weight_lb is in pounds.\n",
    "\n",
    "It's now possible to calculate the BMI of each Volleyball player. Code to convert height_inches to a numpy array with the correct units is already available. Follow the instructions step by step and finish the game!\n",
    "\n",
    "### Instructions\n",
    "* Create a numpy array from the `weight_lb` list with the correct units. Multiply by `0.453592` to go from pounds to kilograms. Store the resulting numpy array as `np_weight_kg`.\n",
    "* Use `np_height_metres` and `np_weight_kg` to calculate the BMI of each player. Use the following equation:\n",
    " $$ \\text{BMI}=\\frac{\\text{weight(kg)}}{\\text{height(m)}^2}$$\n",
    "* Save the resulting numpy array as `bmi`.\n",
    "* Print out `bmi`.\n"
   ]
  },
  {
   "cell_type": "code",
   "execution_count": 4,
   "metadata": {},
   "outputs": [],
   "source": [
    "weight_lb=[180, 215, 210, 210,205, 230, 195, 180, 192, 225, 203, 195, 182, 188, 200, 180, 200, 200, 245, 240, 215, 185, 175, 199, \n",
    "           200, 215, 200, 205, 206, 186, 188, 220, 210, 195, 200, 200, 212, 224, 210, 205, 220, 195, 200, 260, 228, 270, 200, 210, \n",
    "           190, 220, 180, 205, 210, 220, 211, 200, 180, 190, 170, 230, 155, 185, 185, 200, 225, 225, 220, 160, 205, 235, 250, 210, \n",
    "           190, 160, 200, 205, 222, 195, 205, 220, 220, 170, 185, 195, 220, 230, 180, 220, 180, 180, 170, 210, 215, 200, 213, 180, \n",
    "           192, 235, 185, 235, 210, 222, 210, 230, 220, 180, 190, 200, 210, 194, 180, 190, 240, 200, 198, 200, 195, 210, 220, 190, \n",
    "           210, 225, 180, 185, 170, 185, 185, 180, 178, 175, 200, 204]\n",
    "\n",
    "# Create array from height with correct units: np_height_metres\n",
    "\n",
    "\n",
    "# Create array from weight with correct units: np_weight_kg\n",
    "\n",
    "\n",
    "# Calculate the BMI: bmi\n",
    "\n",
    "\n",
    "\n",
    "# Print out bmi\n"
   ]
  },
  {
   "cell_type": "markdown",
   "metadata": {},
   "source": [
    "## Calculate the Lightweight Volleyball players whose EMI is below 21?\n",
    "### Instructions\n",
    "* Create a boolean numpy array: the element of the array should be True if the corresponding volleyball player's     BMI is below 21. You can use the `<` operator for this. Name the array `light`.\n",
    "* Print the array `light`.\n",
    "* Print out a numpy array with the BMIs of all volleyball players whose BMI is below 21. Use light inside square     brackets to do a selection on the bmi array."
   ]
  },
  {
   "cell_type": "code",
   "execution_count": 5,
   "metadata": {},
   "outputs": [],
   "source": [
    "# height and weight are available as a regular lists\n",
    "\n",
    "# Import numpy\n",
    "\n",
    "\n",
    "# Calculate the BMI: bmi\n",
    "\n",
    "\n",
    "# Create the light array\n",
    "\n",
    "\n",
    "\n",
    "# Print out light\n",
    "\n",
    "\n",
    "# Print out BMIs of all volleyball players whose BMI is below 21\n"
   ]
  },
  {
   "cell_type": "markdown",
   "metadata": {},
   "source": [
    "## 4. Find the number of people who have exceptional height?\n",
    "### Instructions\n",
    "* The array `np_height_inches` is already given for you.\n",
    "* Calculate the 95th percentile value of height and save it in variable `h`\n",
    "* Calculate the number of people having height greater than 95th percentile value."
   ]
  },
  {
   "cell_type": "code",
   "execution_count": null,
   "metadata": {},
   "outputs": [],
   "source": []
  }
 ],
 "metadata": {
  "kernelspec": {
   "display_name": "Python 3",
   "language": "python",
   "name": "python3"
  },
  "language_info": {
   "codemirror_mode": {
    "name": "ipython",
    "version": 3
   },
   "file_extension": ".py",
   "mimetype": "text/x-python",
   "name": "python",
   "nbconvert_exporter": "python",
   "pygments_lexer": "ipython3",
   "version": "3.7.0"
  }
 },
 "nbformat": 4,
 "nbformat_minor": 2
}
