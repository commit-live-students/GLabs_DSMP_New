{
 "cells": [
  {
   "cell_type": "markdown",
   "metadata": {
    "colab_type": "text",
    "id": "xpmqC8vGZRIK",
    "slideshow": {
     "slide_type": "slide"
    }
   },
   "source": [
    " # Getting Started with Python"
   ]
  },
  {
   "cell_type": "markdown",
   "metadata": {},
   "source": [
    "## Explainer Video"
   ]
  },
  {
   "cell_type": "code",
   "execution_count": 1,
   "metadata": {},
   "outputs": [
    {
     "data": {
      "text/html": [
       "<iframe src=\"https://player.vimeo.com/video/278480039\" width=\"800\" height=\"600\" frameborder=\"0\" webkitallowfullscreen mozallowfullscreen allowfullscreen></iframe>"
      ],
      "text/plain": [
       "<IPython.core.display.HTML object>"
      ]
     },
     "execution_count": 1,
     "metadata": {},
     "output_type": "execute_result"
    }
   ],
   "source": [
    "from IPython.display import HTML\n",
    "\n",
    "HTML('<iframe src=\"https://player.vimeo.com/video/278480039\" width=\"800\" height=\"600\" frameborder=\"0\" webkitallowfullscreen mozallowfullscreen allowfullscreen></iframe>'\n",
    ")"
   ]
  },
  {
   "cell_type": "markdown",
   "metadata": {
    "colab_type": "text",
    "id": "ok8dqLoTZRIP",
    "slideshow": {
     "slide_type": "subslide"
    }
   },
   "source": [
    "<img src=\"../images/icon/Technical-Stuff.png\" alt=\"Concept-Alert\" style=\"width: 100px;float:left; margin-right:15px\"/>\n",
    "<br /> \n",
    "\n",
    "## Variables : Store your Value in me!\n",
    "***\n",
    "\n",
    "In the code below we begin to explore how we can use a variable to which a string can be assigned. This can be extremely useful in many cases, where you can call the variable instead of typing the string everytime. This not only makes our code clean but it also makes it less redundant. \n",
    "Example syntax to assign a value or expression to a variable,\n",
    "\n",
    "variable_name = value or expression\n",
    "\n",
    "Now let's get coding!!. With the below block of code showing how to assign a string to variable.\n",
    "\n"
   ]
  },
  {
   "cell_type": "markdown",
   "metadata": {
    "colab_type": "text",
    "id": "tHz0cy8hZRIS"
   },
   "source": [
    "### Instructions:\n",
    "* Create a Variable `s` and store the value `'New York'` in it.\n",
    "* Print the value of `s`\n",
    "* print the type of `s` using `type()`\n",
    "* print the len using `len`"
   ]
  },
  {
   "cell_type": "code",
   "execution_count": null,
   "metadata": {
    "ExecuteTime": {
     "end_time": "2017-09-25T05:48:54.171197Z",
     "start_time": "2017-09-25T05:48:54.160141Z"
    },
    "colab": {},
    "colab_type": "code",
    "id": "3btB88vaZRIU",
    "outputId": "da23eb48-5666-49ee-dac0-258a79be55e3",
    "slideshow": {
     "slide_type": "subslide"
    }
   },
   "outputs": [],
   "source": []
  },
  {
   "cell_type": "markdown",
   "metadata": {
    "colab_type": "text",
    "id": "2frev-kXZRIh"
   },
   "source": [
    "### Instructions:\n",
    "* Create two variables `a` and `b` and store the value as `\"I Love \"` and `\"Icecream\"` respectively.\n",
    "* Add both the variables and print it"
   ]
  },
  {
   "cell_type": "code",
   "execution_count": null,
   "metadata": {
    "colab": {},
    "colab_type": "code",
    "id": "uV_WS1IcZRIi",
    "outputId": "686239c9-00aa-42d2-9513-1a373dae109b"
   },
   "outputs": [],
   "source": []
  },
  {
   "cell_type": "markdown",
   "metadata": {
    "colab_type": "text",
    "id": "Zcecc5FIZRIp"
   },
   "source": [
    "<img src=\"../images/icon/Technical-Stuff.png\" alt=\"Technical-Stuff\" style=\"width: 100px;float:left; margin-right:15px\"/>\n",
    "<br />\n",
    "\n",
    "### String Indexing\n",
    "We know strings are a sequence, which means Python can use indexes to call parts of the sequence. Let's learn how this works.\n",
    "\n",
    "In Python, we use brackets [] after an object to call its index. We should also note that indexing starts at 0 for Python. Let's create a new object called s and the walk through a few examples of indexing."
   ]
  },
  {
   "cell_type": "markdown",
   "metadata": {
    "colab_type": "text",
    "id": "HrC091JrZRIr"
   },
   "source": [
    "### Instructions\n",
    "* Assign string 'Hello World' to the variable `s` \n",
    "* Print the object `s`"
   ]
  },
  {
   "cell_type": "code",
   "execution_count": null,
   "metadata": {
    "colab": {},
    "colab_type": "code",
    "id": "ctl4uWFFZRIs",
    "outputId": "ad47c5b2-39a5-406a-abdc-422f62c9de0b"
   },
   "outputs": [],
   "source": []
  },
  {
   "cell_type": "markdown",
   "metadata": {
    "colab_type": "text",
    "id": "ZxQ7JATRZRIx"
   },
   "source": [
    "### Instructions\n",
    "* Print the First element of string `s` that you have printed above."
   ]
  },
  {
   "cell_type": "code",
   "execution_count": 1,
   "metadata": {
    "colab": {},
    "colab_type": "code",
    "id": "MJo-hWzGZRIy",
    "outputId": "21e8416f-d098-474b-b616-cd1954fcea2f"
   },
   "outputs": [],
   "source": [
    "# Show first element (in this case a letter)\n"
   ]
  },
  {
   "cell_type": "markdown",
   "metadata": {
    "ExecuteTime": {
     "end_time": "2017-09-19T11:18:05.674928Z",
     "start_time": "2017-09-19T11:18:05.661334Z"
    },
    "colab_type": "text",
    "id": "409o3x4xZRI4",
    "slideshow": {
     "slide_type": "subslide"
    }
   },
   "source": [
    "<img src=\"../images/icon/Technical-Stuff.png\" alt=\"Technical-Stuff\" style=\"width: 100px;float:left; margin-right:15px\"/>\n",
    "<br />\n",
    "\n",
    "## Basic Built-in String methods\n",
    "\n",
    "***\n",
    "Objects in Python usually have built-in methods. These methods are functions inside the object (we will learn about these in much more depth later) that can perform actions or commands on the object itself.\n",
    "\n",
    "We call methods with a period and then the method name. Methods are in the form:\n",
    "\n",
    "object.method(parameters)\n",
    "\n",
    "Where parameters are extra arguments we can pass into the method. Don't worry if the details don't make 100% sense right now. Later on we will be creating our own objects and functions!\n",
    "\n",
    "Let's try some examples of built-in methods in strings:"
   ]
  },
  {
   "cell_type": "markdown",
   "metadata": {
    "colab_type": "text",
    "id": "tIk5YS-_ZRI5"
   },
   "source": [
    "### Instructions\n",
    "* Assign a string `\"Hello World\"` to the varibale `s`\n",
    "* Use `.upper()` function on `s` variable and print it(i.e it converts each element into Upper case)\n",
    "* Use `.lower()` function on `s` variable and print it(i.e it converts each element into Lower case)"
   ]
  },
  {
   "cell_type": "code",
   "execution_count": 2,
   "metadata": {
    "ExecuteTime": {
     "end_time": "2017-09-20T09:29:42.931594Z",
     "start_time": "2017-09-20T09:29:42.922130Z"
    },
    "colab": {},
    "colab_type": "code",
    "id": "zb3iuPRmZRI5",
    "outputId": "ddf7f4ef-0ccd-4e88-8a7b-ec640d780628",
    "slideshow": {
     "slide_type": "fragment"
    }
   },
   "outputs": [],
   "source": [
    "## Convert all the element of the string to Upper case..!!\n",
    "\n",
    "\n",
    "## Convert all the element of the string to Lower case..!!\n",
    "\n"
   ]
  },
  {
   "cell_type": "markdown",
   "metadata": {
    "colab_type": "text",
    "id": "6o78fk4kZRI-"
   },
   "source": [
    "\n",
    "Now that you have learnt how to store a string in a variable, let's see how you can get input from a user "
   ]
  },
  {
   "cell_type": "markdown",
   "metadata": {
    "colab_type": "text",
    "id": "bGmQR8tqZRI-"
   },
   "source": [
    "### Instructions\n",
    "* Assign `input('Whats your name? ' )` to variable `name`"
   ]
  },
  {
   "cell_type": "code",
   "execution_count": null,
   "metadata": {
    "colab": {},
    "colab_type": "code",
    "id": "aDqoOW_pZRJA",
    "outputId": "e75a9586-073d-4188-bf98-28c2d2cf6c56"
   },
   "outputs": [],
   "source": [
    "\n"
   ]
  },
  {
   "cell_type": "markdown",
   "metadata": {
    "colab_type": "text",
    "id": "l3aGw-Q0ZRJF"
   },
   "source": [
    "<img src=\"../images/icon/ppt-icons.png\" alt=\"ppt-icons\" style=\"width: 100px;float:left; margin-right:15px\"/>\n",
    "<br />\n",
    "\n",
    "### Mini Challenge\n",
    "***\n",
    "Its your turn now!! store the word `hello` in my_string. print the my_string + name. "
   ]
  },
  {
   "cell_type": "code",
   "execution_count": null,
   "metadata": {
    "colab": {},
    "colab_type": "code",
    "id": "mfeCgzQYZRJH",
    "outputId": "d928077a-f912-4e88-b406-8155a70a061f"
   },
   "outputs": [],
   "source": []
  },
  {
   "cell_type": "markdown",
   "metadata": {
    "ExecuteTime": {
     "end_time": "2017-09-19T10:03:27.500870Z",
     "start_time": "2017-09-19T10:03:27.495827Z"
    },
    "colab_type": "text",
    "id": "erYI8KoIZRJL",
    "slideshow": {
     "slide_type": "subslide"
    }
   },
   "source": [
    "<img src=\"../images/icon/Technical-Stuff.png\" alt=\"Technical-Stuff\" style=\"width: 100px;float:left; margin-right:15px\"/>\n",
    "<br />\n",
    "\n",
    "## Know your tools : Operators\n",
    "***\n",
    "- Membership Operators\n",
    "- Identity Operators\n"
   ]
  },
  {
   "cell_type": "markdown",
   "metadata": {
    "colab_type": "text",
    "id": "Y98rxJ1AZRJO"
   },
   "source": [
    "**Membership operators** test for membership in a sequence (string, list, tuple, set and dictionary). You will learn about strings, sets, tuple etc in the upcoming chapters.\n",
    "\n",
    "```python\n",
    "Operator: in\n",
    "Description: Evaluates to true if it finds a variable in the specified sequence and false otherwise\n",
    "Example: x in y, here in results in a 1 if x is a member of sequence y\n",
    "\n",
    "    \n",
    "Operator: not in\n",
    "Description: Evaluates to true if it does not finds a variable in the specified sequence and false otherwise\n",
    "Example: x not in y, here not in results in a 1 if x is not a member of sequence y\n",
    "```\n",
    "\n",
    "\n"
   ]
  },
  {
   "cell_type": "markdown",
   "metadata": {
    "colab_type": "text",
    "id": "gq6RN0m-ZRJQ"
   },
   "source": [
    "### Instructions\n",
    "\n",
    "* You are given a variable `name = \"vanilla\"`\n",
    "* Check whether the variable is in the list `[\"Vanilla\", \"Choclate\"]` and save the result in a variable called `vanilla`\n",
    "* Check whether the variable is in the list `[\"Oreo\", \"Dark Chocolate\"]` and save the result in a variable called `oreo`\n",
    "* Print out both `vanilla` and `oreo`"
   ]
  },
  {
   "cell_type": "code",
   "execution_count": 1,
   "metadata": {
    "colab": {},
    "colab_type": "code",
    "id": "SDZxDwqWZRJQ",
    "outputId": "41a0938b-9bdd-4ff3-ef97-bf7aab1e2e6e"
   },
   "outputs": [],
   "source": [
    "# given variable\n",
    "name = \"vanilla\"\n",
    "\n",
    "# Code starts here\n",
    "\n",
    "# check for memberships\n",
    "\n",
    "# Display variables\n",
    "\n"
   ]
  },
  {
   "cell_type": "markdown",
   "metadata": {
    "colab_type": "text",
    "id": "wzJdL-MWZRJV"
   },
   "source": [
    "**Identity operators** compare the memory locations of two objects. You already know by now that we use the id() to check memory location of an object. There are two Identity operators as explained below:\n",
    "\n",
    "```python\n",
    "Operator: is\n",
    "Description: Evaluates to true if the variables on either side of the operator point to the same object and false otherwise\n",
    "Example: x is y, here is results in 1 if id(x) equals id(y)\n",
    "\n",
    "    \n",
    "Operator: is not\n",
    "Description: Evaluates to false if the variables on either side of the operator point to the same object and true otherwise\n",
    "Example: x is not y, here is not results in 1 if id(x) is not equal to id(y)\n",
    "```\n"
   ]
  },
  {
   "cell_type": "markdown",
   "metadata": {
    "colab_type": "text",
    "id": "x1O3EHE7ZRJW"
   },
   "source": [
    "### Instructions\n",
    "In this task you will be checking the memory locations of variables with the help of the variables x1 = 7, y1 = 7, x2 = 'Hello' and y2 = 'Hello' and finally on two dictionaries d1 and d2 having the same value i.e. {'a':1, 'b':2}. As you might have noticed x1, y1 have the same values and so do x2, y2 and d1, d2\n",
    "\n",
    "* Check if both the variables x1 and y1 point towards same objects and save it to a variable x1_is_y1. Print it out\n",
    "* Check if the variables x2 and y2 point towards the same object and save it to a variable x2_is_y2. Print it out.\n",
    "* Check if d1 and d2 point towards the same object and save it to a variable d1_is_d2. Print it out."
   ]
  },
  {
   "cell_type": "code",
   "execution_count": null,
   "metadata": {
    "colab": {},
    "colab_type": "code",
    "id": "y6_S-1huZRJX",
    "outputId": "8cca01f3-11bd-4118-f1b6-446c240b3230"
   },
   "outputs": [],
   "source": [
    "# initialize variables\n",
    "\n",
    "\n",
    "\n",
    "# Code starts here\n",
    "\n"
   ]
  },
  {
   "cell_type": "markdown",
   "metadata": {
    "colab_type": "text",
    "id": "O4SpHWC9ZRJe",
    "slideshow": {
     "slide_type": "slide"
    }
   },
   "source": [
    "<img src=\"../images/icon/Concept-Alert.png\" alt=\"Concept-Alert\" style=\"width: 100px;float:left; margin-right:15px\"/>\n",
    "<br />\n",
    "\n",
    "## Data Types and Data Structures\n",
    "***\n",
    "- Everything in Python is an \"object\", including integers/floats\n",
    "- Most common and important types (classes)\n",
    "    - \"Single value\": None, int, float, bool, str, complex\n",
    "    - \"Multiple values\": list, tuple, set, dict"
   ]
  },
  {
   "cell_type": "markdown",
   "metadata": {
    "colab_type": "text",
    "id": "Y72jqDzXZRJi"
   },
   "source": [
    "<img src=\"../images/icon/Technical-Stuff.png\" alt=\"Technical-Stuff\" style=\"width: 100px;float:left; margin-right:15px\"/>\n",
    "<br />\n",
    "\n",
    "# Lists\n",
    "***\n",
    "Lists can be thought of the most general version of a *sequence* in Python. Unlike strings, they are mutable, meaning the elements inside a list can be changed!\n",
    "\n",
    "In this section we will learn about:\n",
    "    \n",
    "    1.) Creating lists\n",
    "    2.) Indexing and Slicing Lists\n",
    "    3.) Basic List Methods\n",
    "    4.) Nesting Lists\n",
    "    5.) Introduction to List Comprehensions\n",
    "\n",
    "Lists are constructed with brackets [] and commas separating every element in the list.\n",
    "\n",
    "Let's go ahead and see how we can construct lists!"
   ]
  },
  {
   "cell_type": "markdown",
   "metadata": {
    "colab_type": "text",
    "id": "KAukNetzZRJj"
   },
   "source": [
    "### Instructions\n",
    "* Assign a list to an variable named `my_list` with values `1,2,3`\n",
    " **We just created a list of integers, but lists can actually hold different object types.**\n",
    "* Lets create another list with values as `'A string',23,100.232,'o'` and save it as `my_list`\n",
    "* Check the length of the variable `my_list`"
   ]
  },
  {
   "cell_type": "code",
   "execution_count": null,
   "metadata": {
    "colab": {},
    "colab_type": "code",
    "id": "GInFaDkqZRJm",
    "outputId": "d08d7403-42c5-4082-ed4b-a5b9286e25e9"
   },
   "outputs": [],
   "source": [
    "# Assign a list to an variable named my_list\n"
   ]
  },
  {
   "cell_type": "markdown",
   "metadata": {
    "colab_type": "text",
    "id": "M02W89aFZRJu"
   },
   "source": [
    "<img src=\"../images/icon/Technical-Stuff.png\" alt=\"Technical-Stuff\" style=\"width: 100px;float:left; margin-right:15px\"/>\n",
    "<br />\n",
    "\n",
    "## Indexing and Slicing\n",
    "***\n",
    "Indexing and slicing works just like in strings. Let's make a new list to remind ourselves of how this works:"
   ]
  },
  {
   "cell_type": "markdown",
   "metadata": {
    "colab_type": "text",
    "id": "tXVCSvltZRJv"
   },
   "source": [
    "### Instructions\n",
    "* Create a list with values  `'one','two','three',4,5` and save it as `my_list`\n",
    "* print the Zeroth index as `variable_name[0]`\n",
    "* Print the values from index 1 till last i.e(`varibale_name[1:]`)\n",
    "* Add another list `[new_item]` to `my_list` and print it"
   ]
  },
  {
   "cell_type": "code",
   "execution_count": 2,
   "metadata": {
    "colab": {},
    "colab_type": "code",
    "id": "aib7Hq_7ZRJw",
    "outputId": "3c99fe61-0ea9-436d-8f19-870d86f5bd39"
   },
   "outputs": [],
   "source": [
    "# Create a list\n",
    "\n",
    "# Grab element at index 0\n",
    "\n",
    "\n",
    "# Grab index 1 and everything past it\n",
    "\n",
    "\n",
    "# We can also use + to concatenate lists, just like we did for strings.\n"
   ]
  },
  {
   "cell_type": "markdown",
   "metadata": {
    "ExecuteTime": {
     "end_time": "2017-09-19T11:49:42.542856Z",
     "start_time": "2017-09-19T11:49:42.534053Z"
    },
    "colab_type": "text",
    "id": "_8BkGmtjZRJz",
    "slideshow": {
     "slide_type": "subslide"
    }
   },
   "source": [
    "<img src=\"../images/icon/Technical-Stuff.png\" alt=\"Technical-Stuff\" style=\"width: 100px;float:left; margin-right:15px\"/>\n",
    "<br />\n",
    "\n",
    "## Slicing\n",
    "***\n",
    "Slicing is used to access individual elements or a rage of elements in a list. \n",
    "\n",
    "Python supports \"slicing\" indexable sequences. The syntax for slicing lists is:\n",
    "\n",
    "- `list_object[start:end:step]` or\n",
    "- `list_object[start:end]`\n",
    "\n",
    "start and end are indices (start inclusive, end exclusive). All slicing values are optional."
   ]
  },
  {
   "cell_type": "markdown",
   "metadata": {
    "colab_type": "text",
    "id": "eZkJvIp5ZRJ0"
   },
   "source": [
    "### Instructions\n",
    "* Create a list Containing 10 numbers starting from 0 and save it as `lst`\n",
    "* Print elements from index `4` to `7` \n",
    "* Print alternate elements, starting at index `0`\n",
    "* Print every third element, starting at index `1`\n",
    "* Print odd indices up to index `7`"
   ]
  },
  {
   "cell_type": "code",
   "execution_count": 3,
   "metadata": {
    "ExecuteTime": {
     "end_time": "2017-09-25T05:47:39.225276Z",
     "start_time": "2017-09-25T05:47:39.204399Z"
    },
    "colab": {},
    "colab_type": "code",
    "id": "xwPbQ2oTZRJ2",
    "outputId": "1be96829-f35b-44f8-bafa-1d1819d17ad0",
    "slideshow": {
     "slide_type": "fragment"
    }
   },
   "outputs": [],
   "source": [
    "# create a list containing 10 numbers starting from 0 \n"
   ]
  },
  {
   "cell_type": "markdown",
   "metadata": {
    "colab_type": "text",
    "id": "xIbq2FiWZRJ6"
   },
   "source": [
    "<img src=\"../images/icon/Technical-Stuff.png\" alt=\"Technical-Stuff\" style=\"width: 100px;float:left; margin-right:15px\"/>\n",
    "<br />\n",
    "\n",
    "# Dictionaries\n",
    "***\n",
    "Now we're going to switch gears and learn about *mappings* in Python. If you're familiar with other languages you can think of these Dictionaries as hash tables. \n",
    "\n",
    "This section will serve as a brief introduction to dictionaries and consist of:\n",
    "\n",
    "    1.) Constructing a Dictionary\n",
    "    2.) Accessing objects from a dictionary\n",
    "    3.) Nesting Dictionaries\n",
    "    4.) Basic Dictionary Methods\n",
    "\n",
    "So what are mappings? Mappings are a collection of objects that are stored by a *key*, unlike a sequence that stored objects by their relative position. This is an important distinction, since mappings won't retain order since they have objects defined by a key.\n",
    "\n",
    "A Python dictionary consists of a key and then an associated value. That value can be almost any Python object.\n",
    "\n",
    "\n",
    "## Constructing a Dictionary\n",
    "Let's see how we can construct dictionaries to get a better understanding of how they work!"
   ]
  },
  {
   "cell_type": "markdown",
   "metadata": {
    "colab_type": "text",
    "id": "d_eGhLwaZRJ7"
   },
   "source": [
    "### Instructions\n",
    "* Create a dictionary of `'key1' : 'value1'` and `'key2' : 'value2'` and save it as `my_dict`\n",
    "* Access value by their `key`"
   ]
  },
  {
   "cell_type": "code",
   "execution_count": 4,
   "metadata": {
    "colab": {},
    "colab_type": "code",
    "id": "AWrFysIDZRJ8"
   },
   "outputs": [],
   "source": [
    "# Make a dictionary with {} and : to signify a key and a value\n",
    "\n",
    "\n",
    "# Call values by their key\n"
   ]
  },
  {
   "cell_type": "markdown",
   "metadata": {
    "colab_type": "text",
    "id": "Al46bC5EZRJ_"
   },
   "source": [
    "<img src=\"../images/icon/Technical-Stuff.png\" alt=\"Technical-Stuff\" style=\"width: 100px;float:left; margin-right:15px\"/>\n",
    "<br />\n",
    "\n",
    "# Tuples\n",
    "***\n",
    "In Python tuples are very similar to lists, however, unlike lists they are *immutable* meaning they can not be changed. You would use tuples to present things that shouldn't be changed, such as days of the week, or dates on a calendar. \n",
    "\n",
    "In this section, we will get a brief overview of the following:\n",
    "\n",
    "    1.) Constructing Tuples\n",
    "    2.) Basic Tuple Methods\n",
    "    3.) Immutability\n",
    "    4.) When to Use Tuples.\n",
    "\n",
    "You'll have an intuition of how to use tuples based on what you've learned about lists. We can treat them very similarly with the major distinction being that tuples are immutable.\n",
    "\n",
    "## Constructing Tuples\n",
    "\n",
    "The construction of a tuples use () with elements separated by commas. For example:"
   ]
  },
  {
   "cell_type": "markdown",
   "metadata": {
    "colab_type": "text",
    "id": "t5pDHL-DZRKA"
   },
   "source": [
    "### Instructions\n",
    "* Create a tuple and store the value as `1,2.3,'New York'` in variable `t`\n",
    "* Print `t`\n",
    "* Print type of `t`\n",
    "* Access the third element from `t`"
   ]
  },
  {
   "cell_type": "code",
   "execution_count": null,
   "metadata": {
    "ExecuteTime": {
     "end_time": "2017-09-25T05:47:45.662927Z",
     "start_time": "2017-09-25T05:47:45.654794Z"
    },
    "colab": {},
    "colab_type": "code",
    "id": "4DKVAOnzZRKB",
    "outputId": "12373984-5ca9-468b-b30a-b37290db13b2",
    "slideshow": {
     "slide_type": "fragment"
    }
   },
   "outputs": [],
   "source": []
  },
  {
   "cell_type": "markdown",
   "metadata": {
    "colab_type": "text",
    "id": "3hqK0iqsZRKI"
   },
   "source": [
    "### Instructions\n",
    "* Create a tuple and store the value as `1,2,3` in variable `t1` also create another tuple with `7,8,` and save it as `t2`\n",
    "* Add `t1` and `t2`"
   ]
  },
  {
   "cell_type": "code",
   "execution_count": 5,
   "metadata": {
    "ExecuteTime": {
     "end_time": "2017-09-20T09:42:28.369230Z",
     "start_time": "2017-09-20T09:42:28.349436Z"
    },
    "colab": {},
    "colab_type": "code",
    "id": "4M_3uZbwZRKJ",
    "outputId": "5c981126-4b57-4c9f-fa4c-517243f7d8a0",
    "slideshow": {
     "slide_type": "fragment"
    }
   },
   "outputs": [],
   "source": [
    "# add two tuples\n"
   ]
  },
  {
   "cell_type": "markdown",
   "metadata": {
    "colab_type": "text",
    "id": "TOw2Mt9FZRKQ"
   },
   "source": [
    "<img src=\"../images/icon/quiz.png\" alt=\"Concept-Alert\" style=\"width: 100px;float:left; margin-right:15px\"/>\n",
    "<br /> \n",
    "\n",
    "## Introduction to Data Science\n",
    "***\n",
    "```python\n",
    "1] True or false: Although machine learning is an interesting concept, there are limited business applications in which it is useful.\n",
    "\n",
    "2] True or false: Machine learning applications are too complex to run in the cloud.\n",
    "```"
   ]
  },
  {
   "cell_type": "markdown",
   "metadata": {
    "colab_type": "text",
    "id": "NrIXbMBQZRKQ"
   },
   "source": [
    "<img src=\"../images/icon/quiz.png\" alt=\"Concept-Alert\" style=\"width: 100px;float:left; margin-right:15px\"/>\n",
    "<br /> \n",
    " \n",
    "## Getting Started with Python\n",
    "***\n",
    "1] Which of the following statements is true?\n",
    "```python\n",
    "* Python is a high level programming language.\n",
    "* Python is an interpreted language.\n",
    "* Python is an object-oriented language.\n",
    "* All of the above.\n",
    "```\n",
    "2] What is used to define a block of code (body of loop, function etc.) in Python?\n",
    "```python\n",
    "* Curly braces\n",
    "* Parenthesis\n",
    "* Indentation\n",
    "* Quotation\n",
    "```\n",
    "\n",
    "3] Which of the following is correct?\n",
    "```python\n",
    "* Curly braces\n",
    "* Parenthesis\n",
    "* Indentation\n",
    "* Quotation\n",
    "```\n",
    "4] What is used to define a block of code (body of loop, function etc.) in Python?\n",
    "```python\n",
    "* Comments are for programmers for better understanding of the program.\n",
    "* Python Interpreter ignores comment.\n",
    "* You can write multi-line comments in Python using triple quotes, either ''' or \"\"\".\n",
    "* All of the above\n",
    "```\n",
    "5] In the following code, n is a/an _______?\n",
    "```python\n",
    "n = '5'\n",
    "\n",
    "* integer\n",
    "* string\n",
    "* tuple\n",
    "* operator\n",
    "```"
   ]
  },
  {
   "cell_type": "markdown",
   "metadata": {
    "colab_type": "text",
    "id": "3PqnAgu_ZRKR",
    "slideshow": {
     "slide_type": "slide"
    }
   },
   "source": [
    "# Further Reading\n",
    "\n",
    "- Official Python Documentation: https://docs.python.org/"
   ]
  },
  {
   "cell_type": "markdown",
   "metadata": {
    "colab_type": "text",
    "collapsed": true,
    "id": "ZqDvMk1HZRKV",
    "slideshow": {
     "slide_type": "slide"
    }
   },
   "source": [
    "# Thank You\n",
    "***\n",
    "### Coming up next...\n",
    "\n",
    "- **Python Functions**: How to write modular functions to enable code reuse\n",
    "- **NumPy**: Learn the basis of most numeric computation in Python\n",
    "\n",
    "For more queries - Reach out to academics@greyatom.com "
   ]
  }
 ],
 "metadata": {
  "colab": {
   "name": "python_getting_started_and_datascience_lecture.ipynb",
   "provenance": [],
   "version": "0.3.2"
  },
  "kernelspec": {
   "display_name": "Python 3",
   "language": "python",
   "name": "python3"
  },
  "language_info": {
   "codemirror_mode": {
    "name": "ipython",
    "version": 3
   },
   "file_extension": ".py",
   "mimetype": "text/x-python",
   "name": "python",
   "nbconvert_exporter": "python",
   "pygments_lexer": "ipython3",
   "version": "3.7.0"
  }
 },
 "nbformat": 4,
 "nbformat_minor": 1
}
