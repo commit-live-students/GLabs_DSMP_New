{
 "cells": [
  {
   "cell_type": "markdown",
   "metadata": {},
   "source": [
    "# Sales report using Pandas\n",
    "***\n",
    "## Problem Statement\n",
    "\n",
    "Hello budding Data Scientists. We have with us a bank data set which gives information about the revenue of various customers spread across different regions in USA.\n",
    "\n",
    "Using the knowledge of Pandas and Matplotlib, we will try to answer certain questions from the bank dataset  \n",
    "\n",
    "We will also then scrape certain additional data from Wikipedia, clean it and combine it with our bank data for better understandability of the data.      \n",
    "\n",
    "\n",
    "## About the Dataset\n",
    "\n",
    "Preview of the dataset \n",
    "\n",
    "![bank_dataset](../images/bank_data.png)\n",
    "\n",
    "The dataset has details of 15 customers with following 9 features.\n",
    "\n",
    "|Feature|Description|\n",
    "|-----|-----|\n",
    "|account|account Id|\n",
    "|name|name of the person|\n",
    "|street|Name of the street|\n",
    "|city|Name of the city|\n",
    "|state|Name of the state|\n",
    "|postal-code|numerical value|\n",
    "|Jan|Amount in doller|\n",
    "|Feb|Amount in doller|\n",
    "|Mar|Amount in doller|\n",
    "\n",
    "\n",
    "\n",
    "\n",
    "## Why solve this project\n",
    "\n",
    "Doing this project will enable you to integrate Multiple data sources to answer basic questions. You will also learn to perform common excel tasks with pandas\n",
    "\n",
    "What will you learn in the session ?\n",
    "Python Basics\n",
    "Pandas\n",
    "Web Scrapping\n",
    "Functions\n",
    "Plotting\n",
    "Pre-requisites\n",
    "Working knowledge of Pandas, Numpy, Matplotlib\n",
    "Data indexing and slicing"
   ]
  },
  {
   "cell_type": "markdown",
   "metadata": {},
   "source": [
    "# Load Data and Compute total\n",
    "The first step - you know the drill by now - load the dataset and see how it looks like. Additionally, calculate the total amount in the first quarter of the financial year. Calculate the total amount of all the users for the month of jan, feb and Mar and also grand total. \n",
    "  \n",
    "\n",
    "## Instructions\n",
    "\n",
    "- Load dataset using pandas read_csv api in variable `df` and give file path as `path`.\n",
    "- The names of the states `state` column are changed to lower case and store it in `df['state']`\n",
    "- Create a new column named `total` which computes the total amount in the first quarter\n",
    "  of the financial year i.e. for the months of Jan, Feb and Mar and store it in `df['total']`\n",
    "- Calculate the sum of amount of all users in the Month of Jan, Feb, March and store it in variable `sum_row` \n",
    " (Here the sum implies the sum of all the entries in the `Jan Column`, sum of entries in `Feb` Column and Grand total stands for the sum of entries in the column `total`)\n",
    "- Append this computed sum to the DataFrame `df_final` \n",
    "\n",
    "\n"
   ]
  },
  {
   "cell_type": "code",
   "execution_count": 1,
   "metadata": {},
   "outputs": [],
   "source": [
    "import numpy as np\n",
    "import pandas as pd\n",
    "import matplotlib.pyplot as plt\n",
    "import seaborn as sns\n",
    "\n",
    "# Code starts here\n",
    "\n",
    "\n",
    "\n",
    "#Code ends here"
   ]
  },
  {
   "cell_type": "markdown",
   "metadata": {},
   "source": [
    "# Scrape Data From the web \n",
    "\n",
    "Here, you will be scraping data from the web and cleaning it. \n",
    " \n",
    "  \n",
    "## Instructions:\n",
    "\n",
    "- Scrapes the url `https://en.wikipedia.org/wiki/List_of_U.S._state_abbreviations` and store it in variable `url`\n",
    "- Use module `requests` to `get` the url and store it in variable called `response`\n",
    "- load the html file in dataframe `df1`. `Note`:use `pd.read_html(response.content)[0]`.   \n",
    "- First few rows consists of unclean data. You need to select rows from index 11 till end. Make the values at index 11 as column headers and store it in dataframe `df1`.\n",
    "- Remove space from the column named 'United States of America' and store the result in dataframe called `df1['United States of America']`\n",
    "\n"
   ]
  },
  {
   "cell_type": "code",
   "execution_count": 2,
   "metadata": {},
   "outputs": [],
   "source": [
    "import requests\n",
    "\n",
    "# Code starts here\n",
    "\n",
    "\n",
    "# Code ends here"
   ]
  },
  {
   "cell_type": "markdown",
   "metadata": {},
   "source": [
    "# Mapping Countries to their abbreviations\n",
    "\n",
    "Using the data scraped from the previous task, map abbriviation to the name of states.\n",
    " \n",
    "  \n",
    "\n",
    "## Instructions:\n",
    " \n",
    "- Using the scraped data create a variable called `mapping` which has the Country\n",
    " as key and Abbreviation as value\n",
    "- Create a new column called `abbr` as the 7th column (index = 6) of the DataFrame `df_final`\n",
    "- map the `df_final['state']` on variable `mapping` and store it in `df_final['abbr']` \n",
    "\n"
   ]
  },
  {
   "cell_type": "code",
   "execution_count": 3,
   "metadata": {},
   "outputs": [],
   "source": [
    "# Code Starts here\n",
    "\n",
    "\n",
    "# Code ends here"
   ]
  },
  {
   "cell_type": "markdown",
   "metadata": {},
   "source": [
    "# Filling in the Missing Values\n",
    "\n",
    "What you will notice in the previous task is that for two states Mississippi and Tennessee will have NaN values in column `abbr`. In this task you will be filling those missing values manually. \n",
    " \n",
    "  \n",
    "\n",
    "## Intructions :  \n",
    "- Locate the NaN in the abbr and replace `mississipi` with `MS` and store it in `df_mississipi`\n",
    "- Locate the NaN in the abbr and replace `tenessee` with `TN` and store it in `df_tenessee`\n",
    "- update the df_final\n",
    "\n"
   ]
  },
  {
   "cell_type": "code",
   "execution_count": 4,
   "metadata": {},
   "outputs": [],
   "source": [
    "# Code starts here\n",
    "\n",
    "\n",
    "# Code ends here\n",
    "    "
   ]
  },
  {
   "cell_type": "markdown",
   "metadata": {},
   "source": [
    "## Total amount bank hold  \n",
    "\n",
    "\n",
    "Here, use the newly created abbr column to understand the total amount that the bank holds in each state. Let us make this data frame more readable by introducing units in this case `$` sign representing the unit of mone\n",
    " \n",
    "  \n",
    "\n",
    "## Instructions :\n",
    "  \n",
    "- Groups by `abbr` and finds the sum of aabr,jan,feb ,mar and total store the result in `df_sub`\n",
    "- Write a `lambda function` to introduce `$` sign infromt of all the numbers using `applymap` and store the result in `formatted_df`\n",
    "\n",
    "\n"
   ]
  },
  {
   "cell_type": "code",
   "execution_count": 5,
   "metadata": {},
   "outputs": [],
   "source": [
    "# Code starts here\n",
    "\n",
    "\n",
    "# Code ends here\n",
    "\n",
    "\n"
   ]
  },
  {
   "cell_type": "markdown",
   "metadata": {},
   "source": [
    "# Append a row to the DataFrame\n",
    "\n",
    "In this task, you will append a row to the data frame which will give us information about the total amount of the various regions in Jan, Feb and march and also the grand total\n",
    " \n",
    "## Instructions :\n",
    "\n",
    "- Computes the sum of amount of all users in the Month of Jan, Feb, March and the  total in variable called `sum_row` \n",
    " (Here the sum implies the sum of all the entries in the `Jan Column`, sum of entries in `Feb` Column and Grand total stands for the sum of entries in the column `total`)\n",
    "- Tranpose the dataframe `sum_row` and store it in new dataframe `df_sub_sum` \n",
    "- Make sure you append the `$` to all the digits and store it in dataframe `df_sub_sum` .\n",
    "- Append this computed sum to the DataFrame `final_table` \n",
    "- rename the index of `final_table` to  `{0: \"Total\"}` \n",
    "\n",
    "\n"
   ]
  },
  {
   "cell_type": "code",
   "execution_count": 6,
   "metadata": {},
   "outputs": [],
   "source": [
    "# Code starts here\n",
    "\n",
    "\n",
    "# Code ends here"
   ]
  },
  {
   "cell_type": "markdown",
   "metadata": {},
   "source": [
    "# Pie chart for total\n",
    "\n",
    "\n",
    "Having prepared all the data now its time to present the results visually\n",
    " \n",
    "## Instructions :\n",
    "- add the total of all the three months and store it in variable called `df_sub['total']`\n",
    "- plot the pie chart for the `df_sub['total']`\n",
    "\n",
    "\n"
   ]
  },
  {
   "cell_type": "code",
   "execution_count": 7,
   "metadata": {},
   "outputs": [],
   "source": [
    "# Code starts here\n",
    "\n",
    "\n",
    "# Code ends here"
   ]
  },
  {
   "cell_type": "code",
   "execution_count": null,
   "metadata": {},
   "outputs": [],
   "source": []
  }
 ],
 "metadata": {
  "kernelspec": {
   "display_name": "Python 3",
   "language": "python",
   "name": "python3"
  },
  "language_info": {
   "codemirror_mode": {
    "name": "ipython",
    "version": 3
   },
   "file_extension": ".py",
   "mimetype": "text/x-python",
   "name": "python",
   "nbconvert_exporter": "python",
   "pygments_lexer": "ipython3",
   "version": "3.5.6"
  }
 },
 "nbformat": 4,
 "nbformat_minor": 2
}
