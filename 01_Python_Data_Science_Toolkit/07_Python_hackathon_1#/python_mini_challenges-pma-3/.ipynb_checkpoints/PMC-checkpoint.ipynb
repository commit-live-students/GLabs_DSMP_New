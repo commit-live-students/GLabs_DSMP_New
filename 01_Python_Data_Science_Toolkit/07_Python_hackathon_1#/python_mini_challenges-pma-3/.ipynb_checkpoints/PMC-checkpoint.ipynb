{
 "cells": [
  {
   "cell_type": "markdown",
   "metadata": {},
   "source": [
    "# Python Mini Challenges\n",
    "\n",
    "The most entertaining(and satisfying) way to improve your skills in a programming language is by doing challenges. Every challenge that is given in this assessment module can be solved by a bit of python programming and logical thinking.\n",
    "\n",
    "Some challenges may look easy,some may look tough but we hope you solve them all with the same vigour.\n",
    "\n",
    "All the best."
   ]
  },
  {
   "cell_type": "markdown",
   "metadata": {},
   "source": [
    "# Challenge 1: Smallest Palindrome\n",
    "\n",
    "\n",
    "Create a function called `palindrome(num)` that given a number `'num'`, finds the next smallest palindrome and returns it\n",
    "\n",
    "For eg:\n",
    "***\n",
    "**Input**\n",
    "\n",
    "```python\n",
    "palindrome(123)\n",
    "```\n",
    "\n",
    "**Output**\n",
    "```python\n",
    "131\n",
    "```\n",
    "***\n",
    "**Input**\n",
    "\n",
    "```python\n",
    "palindrome(1331)\n",
    "```\n",
    "\n",
    "**Output**\n",
    "```python\n",
    "1441\n",
    "```\n"
   ]
  },
  {
   "cell_type": "code",
   "execution_count": null,
   "metadata": {},
   "outputs": [],
   "source": [
    "#Code starts here\n",
    "\n",
    "#Code ends here        "
   ]
  },
  {
   "cell_type": "markdown",
   "metadata": {},
   "source": [
    "# Challenge 2: Anagram Scramble\n",
    "\n",
    "Create a function called `'a_scramble(str_1, str_2)'` that given the strings`'str_1'`,`'str_2'` returns `True` if a portion of `'str_1'` characters can be scrambled to match `'str2'`, else return `False`\n",
    "\n",
    "For eg:\n",
    "***\n",
    "**Input**\n",
    "\n",
    "```python\n",
    "a_scramble(\"Tom Marvolo Riddle\",\"Voldemort\")\n",
    "```\n",
    "\n",
    "**Output**\n",
    "```python\n",
    "True\n",
    "```\n",
    "***\n",
    "**Input**\n",
    "\n",
    "```python\n",
    "a_scramble(\"ticket\",\"chat\")\n",
    "```\n",
    "\n",
    "**Output**\n",
    "```python\n",
    "False\n",
    "```\n"
   ]
  },
  {
   "cell_type": "code",
   "execution_count": null,
   "metadata": {},
   "outputs": [],
   "source": [
    "#Code starts here\n",
    "\n",
    "\n",
    "#Code ends here"
   ]
  },
  {
   "cell_type": "markdown",
   "metadata": {},
   "source": [
    "# Challenge 3: Fibonacci Check\n",
    "\n",
    "Create a function called `check_fib(num)` that checks if the given number `'num'` is part of the [fibonacci sequence](https://en.wikipedia.org/wiki/Fibonacci_number) and returns `True` if it is, else `False`\n",
    "\n",
    "For eg:\n",
    "***\n",
    "**Input**\n",
    "\n",
    "```python\n",
    "check_fib(145)\n",
    "```\n",
    "\n",
    "**Output**\n",
    "```python\n",
    "False\n",
    "```\n",
    "***\n",
    "**Input**\n",
    "\n",
    "```python\n",
    "check_fib(377)\n",
    "```\n",
    "\n",
    "**Output**\n",
    "```python\n",
    "True\n",
    "```\n",
    "\n",
    "\n"
   ]
  },
  {
   "cell_type": "code",
   "execution_count": null,
   "metadata": {},
   "outputs": [],
   "source": [
    "#Importing header files\n",
    "from math import sqrt\n",
    "\n",
    "#Code starts here\n",
    "\n",
    "\n",
    "#Code ends here"
   ]
  },
  {
   "cell_type": "markdown",
   "metadata": {},
   "source": [
    "# Challenge 4: String Compression\n",
    "\n",
    "Write a function `compress(word)` that given a word `word` returns the string with it's letters and how many times they occur continously together.\n",
    "\n",
    "For eg:\n",
    "\n",
    "***\n",
    "**Input**\n",
    "\n",
    "```python\n",
    "a_scramble(\"abbs\")\n",
    "```\n",
    "\n",
    "**Output**\n",
    "```python\n",
    "\"a1b2s1\"\n",
    "```\n",
    "Explanation: 1 occurence of `a`, followed by 2 occurences of `b`, followed by 1 occurence of `s`\n",
    "***\n",
    "**Input**\n",
    "\n",
    "```python\n",
    "compress(\"xxcccdex\")\n",
    "```\n",
    "\n",
    "**Output**\n",
    "```python\n",
    "\"x2c3d1e1x1\"\n",
    "```\n",
    "\n",
    "Explanation: 2 occurences of `x`, followed by 3 occurences of `c`, followed by 1 occurence of `d`, followed by 1 occurence of `e`, followed by 1 occurence of `x`"
   ]
  },
  {
   "cell_type": "code",
   "execution_count": null,
   "metadata": {},
   "outputs": [],
   "source": [
    "#Code starts here\n",
    "\n",
    "\n",
    "#Code ends here"
   ]
  },
  {
   "cell_type": "markdown",
   "metadata": {},
   "source": [
    "# Challenge 5: K-Distinct\n",
    "\n",
    "Write a function `k_distinct(string,k)` that given a string `'string'` and number `'k'`, it checks whether the `'string'` has `'k'` distinct characters\n",
    "\n",
    "For eg:\n",
    "***\n",
    "**Input**\n",
    "\n",
    "```python\n",
    "k_distinct('Messoptamia',8)\n",
    "```\n",
    "\n",
    "**Output**\n",
    "```python\n",
    "True\n",
    "```\n",
    "***\n",
    "**Input**\n",
    "\n",
    "```python\n",
    "k_distinct('banana',4)\n",
    "```\n",
    "\n",
    "**Output**\n",
    "```python\n",
    "False\n",
    "```\n"
   ]
  },
  {
   "cell_type": "code",
   "execution_count": null,
   "metadata": {},
   "outputs": [],
   "source": [
    "#Code starts here\n",
    "\n",
    "\n",
    "#Code ends here"
   ]
  }
 ],
 "metadata": {
  "kernelspec": {
   "display_name": "Python 3",
   "language": "python",
   "name": "python3"
  },
  "language_info": {
   "codemirror_mode": {
    "name": "ipython",
    "version": 3
   },
   "file_extension": ".py",
   "mimetype": "text/x-python",
   "name": "python",
   "nbconvert_exporter": "python",
   "pygments_lexer": "ipython3",
   "version": "3.5.6"
  }
 },
 "nbformat": 4,
 "nbformat_minor": 2
}
